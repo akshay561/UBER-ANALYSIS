{
 "cells": [
  {
   "cell_type": "markdown",
   "id": "cf054c00",
   "metadata": {},
   "source": [
    "## CONTEXT \n",
    "\n",
    "#Geography : USA,Sri-lanka & Pakistan\n",
    "#Time Period : jan-dec 2016\n",
    "#Unit of analysis : Drives\n",
    "#Total Drives : 1,155\n",
    "#Total Miles : 12,204    "
   ]
  },
  {
   "cell_type": "markdown",
   "id": "fa4fefa3",
   "metadata": {},
   "source": [
    "The dataset contains start date,end date ,start location,miles driven and purpose of drive (business,personal,meals,meetings)"
   ]
  },
  {
   "cell_type": "code",
   "execution_count": 1,
   "id": "36509c93",
   "metadata": {},
   "outputs": [],
   "source": [
    "##ANALYSIS & MATHEMATICAL LIBRARIES"
   ]
  },
  {
   "cell_type": "code",
   "execution_count": 2,
   "id": "8afa53ac",
   "metadata": {},
   "outputs": [],
   "source": [
    "import numpy as np"
   ]
  },
  {
   "cell_type": "code",
   "execution_count": 3,
   "id": "7e7a100b",
   "metadata": {},
   "outputs": [],
   "source": [
    "import pandas as pd"
   ]
  },
  {
   "cell_type": "code",
   "execution_count": 4,
   "id": "8667bf10",
   "metadata": {},
   "outputs": [],
   "source": [
    "#VISUALIZING LIBRARIES\n",
    "import matplotlib.pyplot as plt\n",
    "import seaborn as sns"
   ]
  },
  {
   "cell_type": "code",
   "execution_count": 5,
   "id": "8e3f0b02",
   "metadata": {},
   "outputs": [],
   "source": [
    "##TIME DATE LIBRARIES\n",
    "import time,datetime"
   ]
  },
  {
   "cell_type": "code",
   "execution_count": 6,
   "id": "9eaabd71",
   "metadata": {},
   "outputs": [],
   "source": [
    "#ESCAPE WARNINGS`\n",
    "import warnings\n",
    "warnings.filterwarnings('ignore')"
   ]
  },
  {
   "cell_type": "code",
   "execution_count": 7,
   "id": "31095c57",
   "metadata": {},
   "outputs": [],
   "source": [
    "#READ THE DATA\n",
    "df=pd.read_csv(r\"C:\\Users\\admin\\OneDrive\\Desktop\\Data Science\\My Uber Drives - 2016.csv\",encoding='Latin1')"
   ]
  },
  {
   "cell_type": "code",
   "execution_count": 8,
   "id": "a7b2cdce",
   "metadata": {},
   "outputs": [
    {
     "data": {
      "text/html": [
       "<div>\n",
       "<style scoped>\n",
       "    .dataframe tbody tr th:only-of-type {\n",
       "        vertical-align: middle;\n",
       "    }\n",
       "\n",
       "    .dataframe tbody tr th {\n",
       "        vertical-align: top;\n",
       "    }\n",
       "\n",
       "    .dataframe thead th {\n",
       "        text-align: right;\n",
       "    }\n",
       "</style>\n",
       "<table border=\"1\" class=\"dataframe\">\n",
       "  <thead>\n",
       "    <tr style=\"text-align: right;\">\n",
       "      <th></th>\n",
       "      <th>START_DATE*</th>\n",
       "      <th>END_DATE*</th>\n",
       "      <th>CATEGORY*</th>\n",
       "      <th>START*</th>\n",
       "      <th>STOP*</th>\n",
       "      <th>MILES*</th>\n",
       "      <th>PURPOSE*</th>\n",
       "    </tr>\n",
       "  </thead>\n",
       "  <tbody>\n",
       "    <tr>\n",
       "      <th>0</th>\n",
       "      <td>1/1/2016 21:11</td>\n",
       "      <td>1/1/2016 21:17</td>\n",
       "      <td>Business</td>\n",
       "      <td>Fort Pierce</td>\n",
       "      <td>Fort Pierce</td>\n",
       "      <td>5.1</td>\n",
       "      <td>Meal/Entertain</td>\n",
       "    </tr>\n",
       "    <tr>\n",
       "      <th>1</th>\n",
       "      <td>1/2/2016 1:25</td>\n",
       "      <td>1/2/2016 1:37</td>\n",
       "      <td>Business</td>\n",
       "      <td>Fort Pierce</td>\n",
       "      <td>Fort Pierce</td>\n",
       "      <td>5.0</td>\n",
       "      <td>NaN</td>\n",
       "    </tr>\n",
       "    <tr>\n",
       "      <th>2</th>\n",
       "      <td>1/2/2016 20:25</td>\n",
       "      <td>1/2/2016 20:38</td>\n",
       "      <td>Business</td>\n",
       "      <td>Fort Pierce</td>\n",
       "      <td>Fort Pierce</td>\n",
       "      <td>4.8</td>\n",
       "      <td>Errand/Supplies</td>\n",
       "    </tr>\n",
       "    <tr>\n",
       "      <th>3</th>\n",
       "      <td>1/5/2016 17:31</td>\n",
       "      <td>1/5/2016 17:45</td>\n",
       "      <td>Business</td>\n",
       "      <td>Fort Pierce</td>\n",
       "      <td>Fort Pierce</td>\n",
       "      <td>4.7</td>\n",
       "      <td>Meeting</td>\n",
       "    </tr>\n",
       "    <tr>\n",
       "      <th>4</th>\n",
       "      <td>1/6/2016 14:42</td>\n",
       "      <td>1/6/2016 15:49</td>\n",
       "      <td>Business</td>\n",
       "      <td>Fort Pierce</td>\n",
       "      <td>West Palm Beach</td>\n",
       "      <td>63.7</td>\n",
       "      <td>Customer Visit</td>\n",
       "    </tr>\n",
       "  </tbody>\n",
       "</table>\n",
       "</div>"
      ],
      "text/plain": [
       "      START_DATE*       END_DATE* CATEGORY*       START*            STOP*  \\\n",
       "0  1/1/2016 21:11  1/1/2016 21:17  Business  Fort Pierce      Fort Pierce   \n",
       "1   1/2/2016 1:25   1/2/2016 1:37  Business  Fort Pierce      Fort Pierce   \n",
       "2  1/2/2016 20:25  1/2/2016 20:38  Business  Fort Pierce      Fort Pierce   \n",
       "3  1/5/2016 17:31  1/5/2016 17:45  Business  Fort Pierce      Fort Pierce   \n",
       "4  1/6/2016 14:42  1/6/2016 15:49  Business  Fort Pierce  West Palm Beach   \n",
       "\n",
       "   MILES*         PURPOSE*  \n",
       "0     5.1   Meal/Entertain  \n",
       "1     5.0              NaN  \n",
       "2     4.8  Errand/Supplies  \n",
       "3     4.7          Meeting  \n",
       "4    63.7   Customer Visit  "
      ]
     },
     "execution_count": 8,
     "metadata": {},
     "output_type": "execute_result"
    }
   ],
   "source": [
    "df.head()"
   ]
  },
  {
   "cell_type": "code",
   "execution_count": 9,
   "id": "48ab1b74",
   "metadata": {},
   "outputs": [],
   "source": [
    "#REMOVE THE SPECIAL CHARACTERS\n",
    "df.columns=df.columns.str.replace(\"*\",\"\")"
   ]
  },
  {
   "cell_type": "code",
   "execution_count": 10,
   "id": "4546c39a",
   "metadata": {},
   "outputs": [
    {
     "data": {
      "text/html": [
       "<div>\n",
       "<style scoped>\n",
       "    .dataframe tbody tr th:only-of-type {\n",
       "        vertical-align: middle;\n",
       "    }\n",
       "\n",
       "    .dataframe tbody tr th {\n",
       "        vertical-align: top;\n",
       "    }\n",
       "\n",
       "    .dataframe thead th {\n",
       "        text-align: right;\n",
       "    }\n",
       "</style>\n",
       "<table border=\"1\" class=\"dataframe\">\n",
       "  <thead>\n",
       "    <tr style=\"text-align: right;\">\n",
       "      <th></th>\n",
       "      <th>START_DATE</th>\n",
       "      <th>END_DATE</th>\n",
       "      <th>CATEGORY</th>\n",
       "      <th>START</th>\n",
       "      <th>STOP</th>\n",
       "      <th>MILES</th>\n",
       "      <th>PURPOSE</th>\n",
       "    </tr>\n",
       "  </thead>\n",
       "  <tbody>\n",
       "    <tr>\n",
       "      <th>0</th>\n",
       "      <td>1/1/2016 21:11</td>\n",
       "      <td>1/1/2016 21:17</td>\n",
       "      <td>Business</td>\n",
       "      <td>Fort Pierce</td>\n",
       "      <td>Fort Pierce</td>\n",
       "      <td>5.1</td>\n",
       "      <td>Meal/Entertain</td>\n",
       "    </tr>\n",
       "    <tr>\n",
       "      <th>1</th>\n",
       "      <td>1/2/2016 1:25</td>\n",
       "      <td>1/2/2016 1:37</td>\n",
       "      <td>Business</td>\n",
       "      <td>Fort Pierce</td>\n",
       "      <td>Fort Pierce</td>\n",
       "      <td>5.0</td>\n",
       "      <td>NaN</td>\n",
       "    </tr>\n",
       "    <tr>\n",
       "      <th>2</th>\n",
       "      <td>1/2/2016 20:25</td>\n",
       "      <td>1/2/2016 20:38</td>\n",
       "      <td>Business</td>\n",
       "      <td>Fort Pierce</td>\n",
       "      <td>Fort Pierce</td>\n",
       "      <td>4.8</td>\n",
       "      <td>Errand/Supplies</td>\n",
       "    </tr>\n",
       "    <tr>\n",
       "      <th>3</th>\n",
       "      <td>1/5/2016 17:31</td>\n",
       "      <td>1/5/2016 17:45</td>\n",
       "      <td>Business</td>\n",
       "      <td>Fort Pierce</td>\n",
       "      <td>Fort Pierce</td>\n",
       "      <td>4.7</td>\n",
       "      <td>Meeting</td>\n",
       "    </tr>\n",
       "    <tr>\n",
       "      <th>4</th>\n",
       "      <td>1/6/2016 14:42</td>\n",
       "      <td>1/6/2016 15:49</td>\n",
       "      <td>Business</td>\n",
       "      <td>Fort Pierce</td>\n",
       "      <td>West Palm Beach</td>\n",
       "      <td>63.7</td>\n",
       "      <td>Customer Visit</td>\n",
       "    </tr>\n",
       "  </tbody>\n",
       "</table>\n",
       "</div>"
      ],
      "text/plain": [
       "       START_DATE        END_DATE  CATEGORY        START             STOP  \\\n",
       "0  1/1/2016 21:11  1/1/2016 21:17  Business  Fort Pierce      Fort Pierce   \n",
       "1   1/2/2016 1:25   1/2/2016 1:37  Business  Fort Pierce      Fort Pierce   \n",
       "2  1/2/2016 20:25  1/2/2016 20:38  Business  Fort Pierce      Fort Pierce   \n",
       "3  1/5/2016 17:31  1/5/2016 17:45  Business  Fort Pierce      Fort Pierce   \n",
       "4  1/6/2016 14:42  1/6/2016 15:49  Business  Fort Pierce  West Palm Beach   \n",
       "\n",
       "   MILES          PURPOSE  \n",
       "0    5.1   Meal/Entertain  \n",
       "1    5.0              NaN  \n",
       "2    4.8  Errand/Supplies  \n",
       "3    4.7          Meeting  \n",
       "4   63.7   Customer Visit  "
      ]
     },
     "execution_count": 10,
     "metadata": {},
     "output_type": "execute_result"
    }
   ],
   "source": [
    "df.head()"
   ]
  },
  {
   "cell_type": "code",
   "execution_count": 11,
   "id": "faf1d680",
   "metadata": {},
   "outputs": [
    {
     "name": "stdout",
     "output_type": "stream",
     "text": [
      "<class 'pandas.core.frame.DataFrame'>\n",
      "RangeIndex: 1156 entries, 0 to 1155\n",
      "Data columns (total 7 columns):\n",
      " #   Column      Non-Null Count  Dtype  \n",
      "---  ------      --------------  -----  \n",
      " 0   START_DATE  1156 non-null   object \n",
      " 1   END_DATE    1155 non-null   object \n",
      " 2   CATEGORY    1155 non-null   object \n",
      " 3   START       1155 non-null   object \n",
      " 4   STOP        1155 non-null   object \n",
      " 5   MILES       1156 non-null   float64\n",
      " 6   PURPOSE     653 non-null    object \n",
      "dtypes: float64(1), object(6)\n",
      "memory usage: 63.3+ KB\n"
     ]
    }
   ],
   "source": [
    "##INFO OF DATA\n",
    "df.info()"
   ]
  },
  {
   "cell_type": "code",
   "execution_count": 12,
   "id": "5423d51a",
   "metadata": {},
   "outputs": [],
   "source": [
    "##From above info we get to know that the purpose column has many null values "
   ]
  },
  {
   "cell_type": "code",
   "execution_count": 13,
   "id": "9715bbf8",
   "metadata": {},
   "outputs": [
    {
     "data": {
      "text/plain": [
       "(1156, 7)"
      ]
     },
     "execution_count": 13,
     "metadata": {},
     "output_type": "execute_result"
    }
   ],
   "source": [
    "#Number of rows and columns\n",
    "df.shape"
   ]
  },
  {
   "cell_type": "code",
   "execution_count": 14,
   "id": "1fc7dd75",
   "metadata": {},
   "outputs": [
    {
     "data": {
      "text/html": [
       "<div>\n",
       "<style scoped>\n",
       "    .dataframe tbody tr th:only-of-type {\n",
       "        vertical-align: middle;\n",
       "    }\n",
       "\n",
       "    .dataframe tbody tr th {\n",
       "        vertical-align: top;\n",
       "    }\n",
       "\n",
       "    .dataframe thead th {\n",
       "        text-align: right;\n",
       "    }\n",
       "</style>\n",
       "<table border=\"1\" class=\"dataframe\">\n",
       "  <thead>\n",
       "    <tr style=\"text-align: right;\">\n",
       "      <th></th>\n",
       "      <th>MILES</th>\n",
       "    </tr>\n",
       "  </thead>\n",
       "  <tbody>\n",
       "    <tr>\n",
       "      <th>count</th>\n",
       "      <td>1156.000000</td>\n",
       "    </tr>\n",
       "    <tr>\n",
       "      <th>mean</th>\n",
       "      <td>21.115398</td>\n",
       "    </tr>\n",
       "    <tr>\n",
       "      <th>std</th>\n",
       "      <td>359.299007</td>\n",
       "    </tr>\n",
       "    <tr>\n",
       "      <th>min</th>\n",
       "      <td>0.500000</td>\n",
       "    </tr>\n",
       "    <tr>\n",
       "      <th>25%</th>\n",
       "      <td>2.900000</td>\n",
       "    </tr>\n",
       "    <tr>\n",
       "      <th>50%</th>\n",
       "      <td>6.000000</td>\n",
       "    </tr>\n",
       "    <tr>\n",
       "      <th>75%</th>\n",
       "      <td>10.400000</td>\n",
       "    </tr>\n",
       "    <tr>\n",
       "      <th>max</th>\n",
       "      <td>12204.700000</td>\n",
       "    </tr>\n",
       "  </tbody>\n",
       "</table>\n",
       "</div>"
      ],
      "text/plain": [
       "              MILES\n",
       "count   1156.000000\n",
       "mean      21.115398\n",
       "std      359.299007\n",
       "min        0.500000\n",
       "25%        2.900000\n",
       "50%        6.000000\n",
       "75%       10.400000\n",
       "max    12204.700000"
      ]
     },
     "execution_count": 14,
     "metadata": {},
     "output_type": "execute_result"
    }
   ],
   "source": [
    "df.describe()"
   ]
  },
  {
   "cell_type": "markdown",
   "id": "98e49d66",
   "metadata": {},
   "source": [
    "## HANDLING THE MISSING VALUES "
   ]
  },
  {
   "cell_type": "code",
   "execution_count": 15,
   "id": "5c838c9c",
   "metadata": {},
   "outputs": [
    {
     "data": {
      "text/plain": [
       "START_DATE      0\n",
       "END_DATE        1\n",
       "CATEGORY        1\n",
       "START           1\n",
       "STOP            1\n",
       "MILES           0\n",
       "PURPOSE       503\n",
       "dtype: int64"
      ]
     },
     "execution_count": 15,
     "metadata": {},
     "output_type": "execute_result"
    }
   ],
   "source": [
    "df.isnull().sum()"
   ]
  },
  {
   "cell_type": "code",
   "execution_count": 16,
   "id": "0b0c1fcf",
   "metadata": {},
   "outputs": [
    {
     "data": {
      "text/plain": [
       "507"
      ]
     },
     "execution_count": 16,
     "metadata": {},
     "output_type": "execute_result"
    }
   ],
   "source": [
    "df.isnull().sum().sum()"
   ]
  },
  {
   "cell_type": "code",
   "execution_count": 17,
   "id": "ca181c71",
   "metadata": {},
   "outputs": [],
   "source": [
    "#data has 507 missing values"
   ]
  },
  {
   "cell_type": "code",
   "execution_count": 18,
   "id": "1f416e6c",
   "metadata": {},
   "outputs": [
    {
     "data": {
      "image/png": "[encoded data removed]",
      "text/plain": [
       "<Figure size 1080x432 with 2 Axes>"
      ]
     },
     "metadata": {
      "needs_background": "light"
     },
     "output_type": "display_data"
    }
   ],
   "source": [
    "##VISUALISING THE NULL VALUES\n",
    "plt.figure(figsize=(15,6))\n",
    "sns.heatmap(df.isnull(),cmap='magma',yticklabels=False)\n",
    "plt.show()"
   ]
  },
  {
   "cell_type": "code",
   "execution_count": 19,
   "id": "4c1b541b",
   "metadata": {},
   "outputs": [],
   "source": [
    "##From above plot we get to know that PURPOSE column has many missing values "
   ]
  },
  {
   "cell_type": "code",
   "execution_count": 20,
   "id": "744b47af",
   "metadata": {},
   "outputs": [
    {
     "name": "stdout",
     "output_type": "stream",
     "text": [
      "Requirement already satisfied: missingno in c:\\users\\admin\\anaconda3\\lib\\site-packages (0.5.0)\n",
      "Requirement already satisfied: seaborn in c:\\users\\admin\\anaconda3\\lib\\site-packages (from missingno) (0.11.1)\n",
      "Requirement already satisfied: numpy in c:\\users\\admin\\anaconda3\\lib\\site-packages (from missingno) (1.19.5)\n",
      "Requirement already satisfied: matplotlib in c:\\users\\admin\\anaconda3\\lib\\site-packages (from missingno) (3.3.4)\n",
      "Requirement already satisfied: scipy in c:\\users\\admin\\anaconda3\\lib\\site-packages (from missingno) (1.6.2)\n",
      "Requirement already satisfied: kiwisolver>=1.0.1 in c:\\users\\admin\\anaconda3\\lib\\site-packages (from matplotlib->missingno) (1.3.1)\n",
      "Requirement already satisfied: python-dateutil>=2.1 in c:\\users\\admin\\anaconda3\\lib\\site-packages (from matplotlib->missingno) (2.8.1)\n",
      "Requirement already satisfied: pillow>=6.2.0 in c:\\users\\admin\\anaconda3\\lib\\site-packages (from matplotlib->missingno) (8.2.0)\n",
      "Requirement already satisfied: pyparsing!=2.0.4,!=2.1.2,!=2.1.6,>=2.0.3 in c:\\users\\admin\\anaconda3\\lib\\site-packages (from matplotlib->missingno) (2.4.7)\n",
      "Requirement already satisfied: cycler>=0.10 in c:\\users\\admin\\anaconda3\\lib\\site-packages (from matplotlib->missingno) (0.10.0)\n",
      "Requirement already satisfied: six in c:\\users\\admin\\anaconda3\\lib\\site-packages (from cycler>=0.10->matplotlib->missingno) (1.15.0)\n",
      "Requirement already satisfied: pandas>=0.23 in c:\\users\\admin\\anaconda3\\lib\\site-packages (from seaborn->missingno) (1.2.4)\n",
      "Requirement already satisfied: pytz>=2017.3 in c:\\users\\admin\\anaconda3\\lib\\site-packages (from pandas>=0.23->seaborn->missingno) (2021.1)\n"
     ]
    }
   ],
   "source": [
    "##ANOTHER METHOD TO VISUALISE THE ATTRIBUTES\n",
    "!pip install missingno "
   ]
  },
  {
   "cell_type": "code",
   "execution_count": 21,
   "id": "57c33d97",
   "metadata": {},
   "outputs": [
    {
     "data": {
      "image/png": "[encoded data removed]",
      "text/plain": [
       "<Figure size 1800x720 with 3 Axes>"
      ]
     },
     "metadata": {
      "needs_background": "light"
     },
     "output_type": "display_data"
    }
   ],
   "source": [
    "import missingno as msno\n",
    "msno.bar(df)\n",
    "plt.show()"
   ]
  },
  {
   "cell_type": "code",
   "execution_count": 22,
   "id": "8260888a",
   "metadata": {},
   "outputs": [
    {
     "data": {
      "text/plain": [
       "END_DATE      1\n",
       "CATEGORY      1\n",
       "START         1\n",
       "STOP          1\n",
       "PURPOSE     503\n",
       "dtype: int64"
      ]
     },
     "execution_count": 22,
     "metadata": {},
     "output_type": "execute_result"
    }
   ],
   "source": [
    "#Any null values columns are displayed \n",
    "null_columns=df.columns[df.isnull().any()]\n",
    "df[null_columns].isnull().sum()"
   ]
  },
  {
   "cell_type": "code",
   "execution_count": 23,
   "id": "322dd0a5",
   "metadata": {},
   "outputs": [],
   "source": [
    "#Dropping the null values\n",
    "df.drop(index=1155,axis=0,inplace=True)"
   ]
  },
  {
   "cell_type": "code",
   "execution_count": 24,
   "id": "4182ef76",
   "metadata": {},
   "outputs": [
    {
     "data": {
      "text/plain": [
       "START_DATE      0\n",
       "END_DATE        0\n",
       "CATEGORY        0\n",
       "START           0\n",
       "STOP            0\n",
       "MILES           0\n",
       "PURPOSE       502\n",
       "dtype: int64"
      ]
     },
     "execution_count": 24,
     "metadata": {},
     "output_type": "execute_result"
    }
   ],
   "source": [
    "df.isnull().sum()"
   ]
  },
  {
   "cell_type": "code",
   "execution_count": 25,
   "id": "79b35629",
   "metadata": {},
   "outputs": [
    {
     "data": {
      "text/plain": [
       "0.43463203463203465"
      ]
     },
     "execution_count": 25,
     "metadata": {},
     "output_type": "execute_result"
    }
   ],
   "source": [
    "df['PURPOSE'].isnull().sum()/len(df)"
   ]
  },
  {
   "cell_type": "code",
   "execution_count": 26,
   "id": "f807ee8d",
   "metadata": {},
   "outputs": [],
   "source": [
    "##Forward filling\n",
    "df['PURPOSE'].fillna(method='ffill',inplace=True)"
   ]
  },
  {
   "cell_type": "code",
   "execution_count": 27,
   "id": "f7bf0cf4",
   "metadata": {},
   "outputs": [
    {
     "data": {
      "text/plain": [
       "START_DATE    0\n",
       "END_DATE      0\n",
       "CATEGORY      0\n",
       "START         0\n",
       "STOP          0\n",
       "MILES         0\n",
       "PURPOSE       0\n",
       "dtype: int64"
      ]
     },
     "execution_count": 27,
     "metadata": {},
     "output_type": "execute_result"
    }
   ],
   "source": [
    "df.isnull().sum()"
   ]
  },
  {
   "cell_type": "code",
   "execution_count": 28,
   "id": "73db52d5",
   "metadata": {},
   "outputs": [],
   "source": [
    "df[\"START_DATE\"]=pd.to_datetime(df[\"START_DATE\"],errors='coerce')\n",
    "df[\"END_DATE\"]=pd.to_datetime(df[\"END_DATE\"],errors='coerce')"
   ]
  },
  {
   "cell_type": "code",
   "execution_count": 29,
   "id": "442c1e28",
   "metadata": {
    "scrolled": true
   },
   "outputs": [
    {
     "name": "stdout",
     "output_type": "stream",
     "text": [
      "<class 'pandas.core.frame.DataFrame'>\n",
      "Int64Index: 1155 entries, 0 to 1154\n",
      "Data columns (total 7 columns):\n",
      " #   Column      Non-Null Count  Dtype         \n",
      "---  ------      --------------  -----         \n",
      " 0   START_DATE  1155 non-null   datetime64[ns]\n",
      " 1   END_DATE    1155 non-null   datetime64[ns]\n",
      " 2   CATEGORY    1155 non-null   object        \n",
      " 3   START       1155 non-null   object        \n",
      " 4   STOP        1155 non-null   object        \n",
      " 5   MILES       1155 non-null   float64       \n",
      " 6   PURPOSE     1155 non-null   object        \n",
      "dtypes: datetime64[ns](2), float64(1), object(4)\n",
      "memory usage: 72.2+ KB\n"
     ]
    }
   ],
   "source": [
    "df.info()"
   ]
  },
  {
   "cell_type": "code",
   "execution_count": 30,
   "id": "50c5150e",
   "metadata": {},
   "outputs": [
    {
     "data": {
      "text/html": [
       "<div>\n",
       "<style scoped>\n",
       "    .dataframe tbody tr th:only-of-type {\n",
       "        vertical-align: middle;\n",
       "    }\n",
       "\n",
       "    .dataframe tbody tr th {\n",
       "        vertical-align: top;\n",
       "    }\n",
       "\n",
       "    .dataframe thead th {\n",
       "        text-align: right;\n",
       "    }\n",
       "</style>\n",
       "<table border=\"1\" class=\"dataframe\">\n",
       "  <thead>\n",
       "    <tr style=\"text-align: right;\">\n",
       "      <th></th>\n",
       "      <th>START_DATE</th>\n",
       "      <th>END_DATE</th>\n",
       "      <th>CATEGORY</th>\n",
       "      <th>START</th>\n",
       "      <th>STOP</th>\n",
       "      <th>MILES</th>\n",
       "      <th>PURPOSE</th>\n",
       "    </tr>\n",
       "  </thead>\n",
       "  <tbody>\n",
       "    <tr>\n",
       "      <th>0</th>\n",
       "      <td>2016-01-01 21:11:00</td>\n",
       "      <td>2016-01-01 21:17:00</td>\n",
       "      <td>Business</td>\n",
       "      <td>Fort Pierce</td>\n",
       "      <td>Fort Pierce</td>\n",
       "      <td>5.1</td>\n",
       "      <td>Meal/Entertain</td>\n",
       "    </tr>\n",
       "    <tr>\n",
       "      <th>1</th>\n",
       "      <td>2016-01-02 01:25:00</td>\n",
       "      <td>2016-01-02 01:37:00</td>\n",
       "      <td>Business</td>\n",
       "      <td>Fort Pierce</td>\n",
       "      <td>Fort Pierce</td>\n",
       "      <td>5.0</td>\n",
       "      <td>Meal/Entertain</td>\n",
       "    </tr>\n",
       "    <tr>\n",
       "      <th>2</th>\n",
       "      <td>2016-01-02 20:25:00</td>\n",
       "      <td>2016-01-02 20:38:00</td>\n",
       "      <td>Business</td>\n",
       "      <td>Fort Pierce</td>\n",
       "      <td>Fort Pierce</td>\n",
       "      <td>4.8</td>\n",
       "      <td>Errand/Supplies</td>\n",
       "    </tr>\n",
       "    <tr>\n",
       "      <th>3</th>\n",
       "      <td>2016-01-05 17:31:00</td>\n",
       "      <td>2016-01-05 17:45:00</td>\n",
       "      <td>Business</td>\n",
       "      <td>Fort Pierce</td>\n",
       "      <td>Fort Pierce</td>\n",
       "      <td>4.7</td>\n",
       "      <td>Meeting</td>\n",
       "    </tr>\n",
       "    <tr>\n",
       "      <th>4</th>\n",
       "      <td>2016-01-06 14:42:00</td>\n",
       "      <td>2016-01-06 15:49:00</td>\n",
       "      <td>Business</td>\n",
       "      <td>Fort Pierce</td>\n",
       "      <td>West Palm Beach</td>\n",
       "      <td>63.7</td>\n",
       "      <td>Customer Visit</td>\n",
       "    </tr>\n",
       "  </tbody>\n",
       "</table>\n",
       "</div>"
      ],
      "text/plain": [
       "           START_DATE            END_DATE  CATEGORY        START  \\\n",
       "0 2016-01-01 21:11:00 2016-01-01 21:17:00  Business  Fort Pierce   \n",
       "1 2016-01-02 01:25:00 2016-01-02 01:37:00  Business  Fort Pierce   \n",
       "2 2016-01-02 20:25:00 2016-01-02 20:38:00  Business  Fort Pierce   \n",
       "3 2016-01-05 17:31:00 2016-01-05 17:45:00  Business  Fort Pierce   \n",
       "4 2016-01-06 14:42:00 2016-01-06 15:49:00  Business  Fort Pierce   \n",
       "\n",
       "              STOP  MILES          PURPOSE  \n",
       "0      Fort Pierce    5.1   Meal/Entertain  \n",
       "1      Fort Pierce    5.0   Meal/Entertain  \n",
       "2      Fort Pierce    4.8  Errand/Supplies  \n",
       "3      Fort Pierce    4.7          Meeting  \n",
       "4  West Palm Beach   63.7   Customer Visit  "
      ]
     },
     "execution_count": 30,
     "metadata": {},
     "output_type": "execute_result"
    }
   ],
   "source": [
    "df.head()"
   ]
  },
  {
   "cell_type": "code",
   "execution_count": 31,
   "id": "60dee0c9",
   "metadata": {},
   "outputs": [
    {
     "data": {
      "image/png": "[encoded data removed]",
      "text/plain": [
       "<Figure size 1800x720 with 3 Axes>"
      ]
     },
     "metadata": {
      "needs_background": "light"
     },
     "output_type": "display_data"
    }
   ],
   "source": [
    "msno.bar(df)\n",
    "plt.show()"
   ]
  },
  {
   "cell_type": "code",
   "execution_count": 32,
   "id": "b859d928",
   "metadata": {},
   "outputs": [
    {
     "data": {
      "text/html": [
       "<div>\n",
       "<style scoped>\n",
       "    .dataframe tbody tr th:only-of-type {\n",
       "        vertical-align: middle;\n",
       "    }\n",
       "\n",
       "    .dataframe tbody tr th {\n",
       "        vertical-align: top;\n",
       "    }\n",
       "\n",
       "    .dataframe thead th {\n",
       "        text-align: right;\n",
       "    }\n",
       "</style>\n",
       "<table border=\"1\" class=\"dataframe\">\n",
       "  <thead>\n",
       "    <tr style=\"text-align: right;\">\n",
       "      <th>col_0</th>\n",
       "      <th>count of travel as per category</th>\n",
       "    </tr>\n",
       "    <tr>\n",
       "      <th>CATEGORY</th>\n",
       "      <th></th>\n",
       "    </tr>\n",
       "  </thead>\n",
       "  <tbody>\n",
       "    <tr>\n",
       "      <th>Business</th>\n",
       "      <td>1078</td>\n",
       "    </tr>\n",
       "    <tr>\n",
       "      <th>Personal</th>\n",
       "      <td>77</td>\n",
       "    </tr>\n",
       "  </tbody>\n",
       "</table>\n",
       "</div>"
      ],
      "text/plain": [
       "col_0     count of travel as per category\n",
       "CATEGORY                                 \n",
       "Business                             1078\n",
       "Personal                               77"
      ]
     },
     "execution_count": 32,
     "metadata": {},
     "output_type": "execute_result"
    }
   ],
   "source": [
    "##Business and Personal count of travel \n",
    "category=pd.crosstab(index=df['CATEGORY'],columns='count of travel as per category')\n",
    "category"
   ]
  },
  {
   "cell_type": "code",
   "execution_count": 33,
   "id": "5f8c4719",
   "metadata": {},
   "outputs": [
    {
     "data": {
      "text/plain": [
       "<matplotlib.legend.Legend at 0x1f8b083f2b0>"
      ]
     },
     "execution_count": 33,
     "metadata": {},
     "output_type": "execute_result"
    },
    {
     "data": {
      "image/png": "[encoded data removed]",
      "text/plain": [
       "<Figure size 432x288 with 1 Axes>"
      ]
     },
     "metadata": {
      "needs_background": "light"
     },
     "output_type": "display_data"
    }
   ],
   "source": [
    "category.plot(kind='bar',color='r')\n",
    "plt.legend()"
   ]
  },
  {
   "cell_type": "code",
   "execution_count": 34,
   "id": "65cce59d",
   "metadata": {},
   "outputs": [
    {
     "data": {
      "text/html": [
       "<div>\n",
       "<style scoped>\n",
       "    .dataframe tbody tr th:only-of-type {\n",
       "        vertical-align: middle;\n",
       "    }\n",
       "\n",
       "    .dataframe tbody tr th {\n",
       "        vertical-align: top;\n",
       "    }\n",
       "\n",
       "    .dataframe thead th {\n",
       "        text-align: right;\n",
       "    }\n",
       "</style>\n",
       "<table border=\"1\" class=\"dataframe\">\n",
       "  <thead>\n",
       "    <tr style=\"text-align: right;\">\n",
       "      <th></th>\n",
       "      <th>START_DATE</th>\n",
       "      <th>END_DATE</th>\n",
       "      <th>CATEGORY</th>\n",
       "      <th>START</th>\n",
       "      <th>STOP</th>\n",
       "      <th>MILES</th>\n",
       "      <th>PURPOSE</th>\n",
       "    </tr>\n",
       "  </thead>\n",
       "  <tbody>\n",
       "    <tr>\n",
       "      <th>0</th>\n",
       "      <td>2016-01-01 21:11:00</td>\n",
       "      <td>2016-01-01 21:17:00</td>\n",
       "      <td>Business</td>\n",
       "      <td>Fort Pierce</td>\n",
       "      <td>Fort Pierce</td>\n",
       "      <td>5.1</td>\n",
       "      <td>Meal/Entertain</td>\n",
       "    </tr>\n",
       "    <tr>\n",
       "      <th>1</th>\n",
       "      <td>2016-01-02 01:25:00</td>\n",
       "      <td>2016-01-02 01:37:00</td>\n",
       "      <td>Business</td>\n",
       "      <td>Fort Pierce</td>\n",
       "      <td>Fort Pierce</td>\n",
       "      <td>5.0</td>\n",
       "      <td>Meal/Entertain</td>\n",
       "    </tr>\n",
       "    <tr>\n",
       "      <th>2</th>\n",
       "      <td>2016-01-02 20:25:00</td>\n",
       "      <td>2016-01-02 20:38:00</td>\n",
       "      <td>Business</td>\n",
       "      <td>Fort Pierce</td>\n",
       "      <td>Fort Pierce</td>\n",
       "      <td>4.8</td>\n",
       "      <td>Errand/Supplies</td>\n",
       "    </tr>\n",
       "    <tr>\n",
       "      <th>3</th>\n",
       "      <td>2016-01-05 17:31:00</td>\n",
       "      <td>2016-01-05 17:45:00</td>\n",
       "      <td>Business</td>\n",
       "      <td>Fort Pierce</td>\n",
       "      <td>Fort Pierce</td>\n",
       "      <td>4.7</td>\n",
       "      <td>Meeting</td>\n",
       "    </tr>\n",
       "    <tr>\n",
       "      <th>4</th>\n",
       "      <td>2016-01-06 14:42:00</td>\n",
       "      <td>2016-01-06 15:49:00</td>\n",
       "      <td>Business</td>\n",
       "      <td>Fort Pierce</td>\n",
       "      <td>West Palm Beach</td>\n",
       "      <td>63.7</td>\n",
       "      <td>Customer Visit</td>\n",
       "    </tr>\n",
       "    <tr>\n",
       "      <th>...</th>\n",
       "      <td>...</td>\n",
       "      <td>...</td>\n",
       "      <td>...</td>\n",
       "      <td>...</td>\n",
       "      <td>...</td>\n",
       "      <td>...</td>\n",
       "      <td>...</td>\n",
       "    </tr>\n",
       "    <tr>\n",
       "      <th>1150</th>\n",
       "      <td>2016-12-31 01:07:00</td>\n",
       "      <td>2016-12-31 01:14:00</td>\n",
       "      <td>Business</td>\n",
       "      <td>Kar?chi</td>\n",
       "      <td>Kar?chi</td>\n",
       "      <td>0.7</td>\n",
       "      <td>Meeting</td>\n",
       "    </tr>\n",
       "    <tr>\n",
       "      <th>1151</th>\n",
       "      <td>2016-12-31 13:24:00</td>\n",
       "      <td>2016-12-31 13:42:00</td>\n",
       "      <td>Business</td>\n",
       "      <td>Kar?chi</td>\n",
       "      <td>Unknown Location</td>\n",
       "      <td>3.9</td>\n",
       "      <td>Temporary Site</td>\n",
       "    </tr>\n",
       "    <tr>\n",
       "      <th>1152</th>\n",
       "      <td>2016-12-31 15:03:00</td>\n",
       "      <td>2016-12-31 15:38:00</td>\n",
       "      <td>Business</td>\n",
       "      <td>Unknown Location</td>\n",
       "      <td>Unknown Location</td>\n",
       "      <td>16.2</td>\n",
       "      <td>Meeting</td>\n",
       "    </tr>\n",
       "    <tr>\n",
       "      <th>1153</th>\n",
       "      <td>2016-12-31 21:32:00</td>\n",
       "      <td>2016-12-31 21:50:00</td>\n",
       "      <td>Business</td>\n",
       "      <td>Katunayake</td>\n",
       "      <td>Gampaha</td>\n",
       "      <td>6.4</td>\n",
       "      <td>Temporary Site</td>\n",
       "    </tr>\n",
       "    <tr>\n",
       "      <th>1154</th>\n",
       "      <td>2016-12-31 22:08:00</td>\n",
       "      <td>2016-12-31 23:51:00</td>\n",
       "      <td>Business</td>\n",
       "      <td>Gampaha</td>\n",
       "      <td>Ilukwatta</td>\n",
       "      <td>48.2</td>\n",
       "      <td>Temporary Site</td>\n",
       "    </tr>\n",
       "  </tbody>\n",
       "</table>\n",
       "<p>1155 rows × 7 columns</p>\n",
       "</div>"
      ],
      "text/plain": [
       "              START_DATE            END_DATE  CATEGORY             START  \\\n",
       "0    2016-01-01 21:11:00 2016-01-01 21:17:00  Business       Fort Pierce   \n",
       "1    2016-01-02 01:25:00 2016-01-02 01:37:00  Business       Fort Pierce   \n",
       "2    2016-01-02 20:25:00 2016-01-02 20:38:00  Business       Fort Pierce   \n",
       "3    2016-01-05 17:31:00 2016-01-05 17:45:00  Business       Fort Pierce   \n",
       "4    2016-01-06 14:42:00 2016-01-06 15:49:00  Business       Fort Pierce   \n",
       "...                  ...                 ...       ...               ...   \n",
       "1150 2016-12-31 01:07:00 2016-12-31 01:14:00  Business           Kar?chi   \n",
       "1151 2016-12-31 13:24:00 2016-12-31 13:42:00  Business           Kar?chi   \n",
       "1152 2016-12-31 15:03:00 2016-12-31 15:38:00  Business  Unknown Location   \n",
       "1153 2016-12-31 21:32:00 2016-12-31 21:50:00  Business        Katunayake   \n",
       "1154 2016-12-31 22:08:00 2016-12-31 23:51:00  Business           Gampaha   \n",
       "\n",
       "                  STOP  MILES          PURPOSE  \n",
       "0          Fort Pierce    5.1   Meal/Entertain  \n",
       "1          Fort Pierce    5.0   Meal/Entertain  \n",
       "2          Fort Pierce    4.8  Errand/Supplies  \n",
       "3          Fort Pierce    4.7          Meeting  \n",
       "4      West Palm Beach   63.7   Customer Visit  \n",
       "...                ...    ...              ...  \n",
       "1150           Kar?chi    0.7          Meeting  \n",
       "1151  Unknown Location    3.9   Temporary Site  \n",
       "1152  Unknown Location   16.2          Meeting  \n",
       "1153           Gampaha    6.4   Temporary Site  \n",
       "1154         Ilukwatta   48.2   Temporary Site  \n",
       "\n",
       "[1155 rows x 7 columns]"
      ]
     },
     "execution_count": 34,
     "metadata": {},
     "output_type": "execute_result"
    }
   ],
   "source": [
    "df"
   ]
  },
  {
   "cell_type": "code",
   "execution_count": 35,
   "id": "03d31de6",
   "metadata": {},
   "outputs": [
    {
     "name": "stdout",
     "output_type": "stream",
     "text": [
      "Cary                201\n",
      "Unknown Location    148\n",
      "Morrisville          85\n",
      "Whitebridge          68\n",
      "Islamabad            57\n",
      "Durham               37\n",
      "Lahore               36\n",
      "Raleigh              28\n",
      "Kar?chi              27\n",
      "Apex                 17\n",
      "Westpark Place       17\n",
      "Berkeley             16\n",
      "Midtown              14\n",
      "R?walpindi           11\n",
      "Kenner               11\n",
      "Kissimmee            11\n",
      "Name: START, dtype: int64\n"
     ]
    }
   ],
   "source": [
    "##which place is the start point of many people\n",
    "Start_Point=df.START.value_counts() \n",
    "Start_Point\n",
    "print(Start_Point[Start_Point>10])"
   ]
  },
  {
   "cell_type": "code",
   "execution_count": 36,
   "id": "b9d67d6f",
   "metadata": {},
   "outputs": [
    {
     "data": {
      "image/png": "[encoded data removed]",
      "text/plain": [
       "<Figure size 432x288 with 1 Axes>"
      ]
     },
     "metadata": {},
     "output_type": "display_data"
    }
   ],
   "source": [
    "Start_Point[Start_Point>10].plot(kind='pie',shadow=True)\n",
    "plt.show()"
   ]
  },
  {
   "cell_type": "code",
   "execution_count": 37,
   "id": "235e40ae",
   "metadata": {},
   "outputs": [
    {
     "name": "stdout",
     "output_type": "stream",
     "text": [
      "[Cary                         False\n",
      "Unknown Location             False\n",
      "Morrisville                  False\n",
      "Whitebridge                  False\n",
      "Islamabad                    False\n",
      "                             ...  \n",
      "Wake Co.                      True\n",
      "Bellevue                      True\n",
      "South Berkeley                True\n",
      "Marigny                       True\n",
      "Arlington Park at Amberly     True\n",
      "Name: START, Length: 177, dtype: bool]\n"
     ]
    }
   ],
   "source": [
    "print([Start_Point<=10])"
   ]
  },
  {
   "cell_type": "code",
   "execution_count": 38,
   "id": "e19f4494",
   "metadata": {},
   "outputs": [],
   "source": [
    "#which places are the most stop points"
   ]
  },
  {
   "cell_type": "code",
   "execution_count": 39,
   "id": "28535a45",
   "metadata": {},
   "outputs": [
    {
     "name": "stdout",
     "output_type": "stream",
     "text": [
      "Cary                203\n",
      "Unknown Location    149\n",
      "Morrisville          84\n",
      "Whitebridge          65\n",
      "Islamabad            58\n",
      "Lahore               36\n",
      "Durham               36\n",
      "Raleigh              29\n",
      "Kar?chi              26\n",
      "Apex                 17\n",
      "Westpark Place       16\n",
      "Berkeley             16\n",
      "R?walpindi           13\n",
      "Kissimmee            12\n",
      "Midtown              11\n",
      "Name: STOP, dtype: int64\n"
     ]
    }
   ],
   "source": [
    "Stop_Point=df.STOP.value_counts()\n",
    "Stop_Point\n",
    "print(Stop_Point[Stop_Point>10])"
   ]
  },
  {
   "cell_type": "code",
   "execution_count": 40,
   "id": "e34ebab6",
   "metadata": {},
   "outputs": [
    {
     "data": {
      "image/png": "[encoded data removed]",
      "text/plain": [
       "<Figure size 432x288 with 1 Axes>"
      ]
     },
     "metadata": {},
     "output_type": "display_data"
    }
   ],
   "source": [
    "#Visualise the stop_points\n",
    "Stop_Point[Stop_Point>10].plot(kind='pie',shadow=True)\n",
    "plt.show()"
   ]
  },
  {
   "cell_type": "code",
   "execution_count": 41,
   "id": "ad807327",
   "metadata": {},
   "outputs": [
    {
     "name": "stdout",
     "output_type": "stream",
     "text": [
      "[Cary                False\n",
      "Unknown Location    False\n",
      "Morrisville         False\n",
      "Whitebridge         False\n",
      "Islamabad           False\n",
      "                    ...  \n",
      "College Avenue       True\n",
      "Hayesville           True\n",
      "Marigny              True\n",
      "Cory                 True\n",
      "Eagle Rock           True\n",
      "Name: STOP, Length: 188, dtype: bool]\n"
     ]
    }
   ],
   "source": [
    "print([Stop_Point<=10])"
   ]
  },
  {
   "cell_type": "code",
   "execution_count": 42,
   "id": "62d3e130",
   "metadata": {},
   "outputs": [
    {
     "name": "stdout",
     "output_type": "stream",
     "text": [
      "9.9     28\n",
      "3.1     26\n",
      "3.0     19\n",
      "2.1     19\n",
      "2.5     19\n",
      "10.4    19\n",
      "1.8     18\n",
      "2.2     18\n",
      "1.7     18\n",
      "3.3     16\n",
      "2.0     16\n",
      "2.8     16\n",
      "1.9     16\n",
      "3.8     15\n",
      "6.1     15\n",
      "5.5     14\n",
      "1.4     14\n",
      "7.9     13\n",
      "1.6     13\n",
      "6.2     12\n",
      "2.9     12\n",
      "2.7     12\n",
      "5.7     12\n",
      "2.3     12\n",
      "1.5     12\n",
      "6.0     11\n",
      "1.0     11\n",
      "7.7     11\n",
      "5.1     11\n",
      "4.9     11\n",
      "Name: MILES, dtype: int64\n"
     ]
    }
   ],
   "source": [
    "##Check our MILES columns\n",
    "miles=df.MILES.value_counts()\n",
    "miles\n",
    "print(miles[miles>10])"
   ]
  },
  {
   "cell_type": "code",
   "execution_count": 43,
   "id": "594a6a71",
   "metadata": {},
   "outputs": [
    {
     "data": {
      "text/plain": [
       "<AxesSubplot:>"
      ]
     },
     "execution_count": 43,
     "metadata": {},
     "output_type": "execute_result"
    },
    {
     "data": {
      "image/png": "[encoded data removed]",
      "text/plain": [
       "<Figure size 432x288 with 1 Axes>"
      ]
     },
     "metadata": {
      "needs_background": "light"
     },
     "output_type": "display_data"
    }
   ],
   "source": [
    "##Bar Plot\n",
    "miles[miles>10].plot(kind='bar')"
   ]
  },
  {
   "cell_type": "code",
   "execution_count": 44,
   "id": "cf2a2302",
   "metadata": {},
   "outputs": [
    {
     "name": "stdout",
     "output_type": "stream",
     "text": [
      "8.7      10\n",
      "3.9      10\n",
      "5.3      10\n",
      "8.4      10\n",
      "3.6      10\n",
      "         ..\n",
      "18.5      1\n",
      "63.7      1\n",
      "43.7      1\n",
      "310.3     1\n",
      "15.0      1\n",
      "Name: MILES, Length: 226, dtype: int64\n"
     ]
    }
   ],
   "source": [
    "print(miles [miles<=10])"
   ]
  },
  {
   "cell_type": "code",
   "execution_count": 45,
   "id": "fdc32dfe",
   "metadata": {},
   "outputs": [
    {
     "data": {
      "text/html": [
       "<div>\n",
       "<style scoped>\n",
       "    .dataframe tbody tr th:only-of-type {\n",
       "        vertical-align: middle;\n",
       "    }\n",
       "\n",
       "    .dataframe tbody tr th {\n",
       "        vertical-align: top;\n",
       "    }\n",
       "\n",
       "    .dataframe thead th {\n",
       "        text-align: right;\n",
       "    }\n",
       "</style>\n",
       "<table border=\"1\" class=\"dataframe\">\n",
       "  <thead>\n",
       "    <tr style=\"text-align: right;\">\n",
       "      <th>col_0</th>\n",
       "      <th>count of miles</th>\n",
       "    </tr>\n",
       "    <tr>\n",
       "      <th>MILES</th>\n",
       "      <th></th>\n",
       "    </tr>\n",
       "  </thead>\n",
       "  <tbody>\n",
       "    <tr>\n",
       "      <th>False</th>\n",
       "      <td>840</td>\n",
       "    </tr>\n",
       "    <tr>\n",
       "      <th>True</th>\n",
       "      <td>315</td>\n",
       "    </tr>\n",
       "  </tbody>\n",
       "</table>\n",
       "</div>"
      ],
      "text/plain": [
       "col_0  count of miles\n",
       "MILES                \n",
       "False             840\n",
       "True              315"
      ]
     },
     "execution_count": 45,
     "metadata": {},
     "output_type": "execute_result"
    },
    {
     "data": {
      "image/png": "[encoded data removed]",
      "text/plain": [
       "<Figure size 432x288 with 1 Axes>"
      ]
     },
     "metadata": {
      "needs_background": "light"
     },
     "output_type": "display_data"
    }
   ],
   "source": [
    "#distance travel not greater than 10(False) greater than 10(True)\n",
    "miles=pd.crosstab(index=df['MILES']>10,columns='count of miles')\n",
    "miles.plot(kind='bar',color='r')\n",
    "miles"
   ]
  },
  {
   "cell_type": "code",
   "execution_count": 46,
   "id": "86c6b7c2",
   "metadata": {},
   "outputs": [
    {
     "name": "stdout",
     "output_type": "stream",
     "text": [
      "Meeting            308\n",
      "Meal/Entertain     245\n",
      "Temporary Site     196\n",
      "Errand/Supplies    173\n",
      "Customer Visit     155\n",
      "Airport/Travel      54\n",
      "Between Offices     18\n",
      "Moving               4\n",
      "Commute              1\n",
      "Charity ($)          1\n",
      "Name: PURPOSE, dtype: int64\n"
     ]
    }
   ],
   "source": [
    "print(df.PURPOSE.value_counts())"
   ]
  },
  {
   "cell_type": "code",
   "execution_count": 47,
   "id": "96ab20cf",
   "metadata": {},
   "outputs": [
    {
     "data": {
      "image/png": "[encoded data removed]",
      "text/plain": [
       "<Figure size 1080x432 with 1 Axes>"
      ]
     },
     "metadata": {
      "needs_background": "light"
     },
     "output_type": "display_data"
    }
   ],
   "source": [
    "plt.figure(figsize=(15,6))\n",
    "sns.countplot(df['PURPOSE'],order = df['PURPOSE'].value_counts().index,palette='viridis')\n",
    "plt.show()"
   ]
  },
  {
   "cell_type": "code",
   "execution_count": 48,
   "id": "77396f8f",
   "metadata": {},
   "outputs": [
    {
     "data": {
      "text/html": [
       "<div>\n",
       "<style scoped>\n",
       "    .dataframe tbody tr th:only-of-type {\n",
       "        vertical-align: middle;\n",
       "    }\n",
       "\n",
       "    .dataframe tbody tr th {\n",
       "        vertical-align: top;\n",
       "    }\n",
       "\n",
       "    .dataframe thead th {\n",
       "        text-align: right;\n",
       "    }\n",
       "</style>\n",
       "<table border=\"1\" class=\"dataframe\">\n",
       "  <thead>\n",
       "    <tr style=\"text-align: right;\">\n",
       "      <th></th>\n",
       "      <th>START_DATE</th>\n",
       "      <th>END_DATE</th>\n",
       "      <th>CATEGORY</th>\n",
       "      <th>START</th>\n",
       "      <th>STOP</th>\n",
       "      <th>MILES</th>\n",
       "      <th>PURPOSE</th>\n",
       "      <th>MINUTES</th>\n",
       "    </tr>\n",
       "  </thead>\n",
       "  <tbody>\n",
       "    <tr>\n",
       "      <th>0</th>\n",
       "      <td>2016-01-01 21:11:00</td>\n",
       "      <td>2016-01-01 21:17:00</td>\n",
       "      <td>Business</td>\n",
       "      <td>Fort Pierce</td>\n",
       "      <td>Fort Pierce</td>\n",
       "      <td>5.1</td>\n",
       "      <td>Meal/Entertain</td>\n",
       "      <td>0 days 00:06:00</td>\n",
       "    </tr>\n",
       "    <tr>\n",
       "      <th>1</th>\n",
       "      <td>2016-01-02 01:25:00</td>\n",
       "      <td>2016-01-02 01:37:00</td>\n",
       "      <td>Business</td>\n",
       "      <td>Fort Pierce</td>\n",
       "      <td>Fort Pierce</td>\n",
       "      <td>5.0</td>\n",
       "      <td>Meal/Entertain</td>\n",
       "      <td>0 days 00:12:00</td>\n",
       "    </tr>\n",
       "    <tr>\n",
       "      <th>2</th>\n",
       "      <td>2016-01-02 20:25:00</td>\n",
       "      <td>2016-01-02 20:38:00</td>\n",
       "      <td>Business</td>\n",
       "      <td>Fort Pierce</td>\n",
       "      <td>Fort Pierce</td>\n",
       "      <td>4.8</td>\n",
       "      <td>Errand/Supplies</td>\n",
       "      <td>0 days 00:13:00</td>\n",
       "    </tr>\n",
       "    <tr>\n",
       "      <th>3</th>\n",
       "      <td>2016-01-05 17:31:00</td>\n",
       "      <td>2016-01-05 17:45:00</td>\n",
       "      <td>Business</td>\n",
       "      <td>Fort Pierce</td>\n",
       "      <td>Fort Pierce</td>\n",
       "      <td>4.7</td>\n",
       "      <td>Meeting</td>\n",
       "      <td>0 days 00:14:00</td>\n",
       "    </tr>\n",
       "    <tr>\n",
       "      <th>4</th>\n",
       "      <td>2016-01-06 14:42:00</td>\n",
       "      <td>2016-01-06 15:49:00</td>\n",
       "      <td>Business</td>\n",
       "      <td>Fort Pierce</td>\n",
       "      <td>West Palm Beach</td>\n",
       "      <td>63.7</td>\n",
       "      <td>Customer Visit</td>\n",
       "      <td>0 days 01:07:00</td>\n",
       "    </tr>\n",
       "  </tbody>\n",
       "</table>\n",
       "</div>"
      ],
      "text/plain": [
       "           START_DATE            END_DATE  CATEGORY        START  \\\n",
       "0 2016-01-01 21:11:00 2016-01-01 21:17:00  Business  Fort Pierce   \n",
       "1 2016-01-02 01:25:00 2016-01-02 01:37:00  Business  Fort Pierce   \n",
       "2 2016-01-02 20:25:00 2016-01-02 20:38:00  Business  Fort Pierce   \n",
       "3 2016-01-05 17:31:00 2016-01-05 17:45:00  Business  Fort Pierce   \n",
       "4 2016-01-06 14:42:00 2016-01-06 15:49:00  Business  Fort Pierce   \n",
       "\n",
       "              STOP  MILES          PURPOSE         MINUTES  \n",
       "0      Fort Pierce    5.1   Meal/Entertain 0 days 00:06:00  \n",
       "1      Fort Pierce    5.0   Meal/Entertain 0 days 00:12:00  \n",
       "2      Fort Pierce    4.8  Errand/Supplies 0 days 00:13:00  \n",
       "3      Fort Pierce    4.7          Meeting 0 days 00:14:00  \n",
       "4  West Palm Beach   63.7   Customer Visit 0 days 01:07:00  "
      ]
     },
     "execution_count": 48,
     "metadata": {},
     "output_type": "execute_result"
    }
   ],
   "source": [
    "#Let us calculate the duration of ride\n",
    "df['MINUTES']=df.END_DATE-df.START_DATE\n",
    "df.head()"
   ]
  },
  {
   "cell_type": "code",
   "execution_count": 49,
   "id": "e410c92e",
   "metadata": {},
   "outputs": [
    {
     "data": {
      "text/html": [
       "<div>\n",
       "<style scoped>\n",
       "    .dataframe tbody tr th:only-of-type {\n",
       "        vertical-align: middle;\n",
       "    }\n",
       "\n",
       "    .dataframe tbody tr th {\n",
       "        vertical-align: top;\n",
       "    }\n",
       "\n",
       "    .dataframe thead th {\n",
       "        text-align: right;\n",
       "    }\n",
       "</style>\n",
       "<table border=\"1\" class=\"dataframe\">\n",
       "  <thead>\n",
       "    <tr style=\"text-align: right;\">\n",
       "      <th></th>\n",
       "      <th>START_DATE</th>\n",
       "      <th>END_DATE</th>\n",
       "      <th>CATEGORY</th>\n",
       "      <th>START</th>\n",
       "      <th>STOP</th>\n",
       "      <th>MILES</th>\n",
       "      <th>PURPOSE</th>\n",
       "      <th>MINUTES</th>\n",
       "    </tr>\n",
       "  </thead>\n",
       "  <tbody>\n",
       "    <tr>\n",
       "      <th>0</th>\n",
       "      <td>2016-01-01 21:11:00</td>\n",
       "      <td>2016-01-01 21:17:00</td>\n",
       "      <td>Business</td>\n",
       "      <td>Fort Pierce</td>\n",
       "      <td>Fort Pierce</td>\n",
       "      <td>5.1</td>\n",
       "      <td>Meal/Entertain</td>\n",
       "      <td>6.0</td>\n",
       "    </tr>\n",
       "    <tr>\n",
       "      <th>1</th>\n",
       "      <td>2016-01-02 01:25:00</td>\n",
       "      <td>2016-01-02 01:37:00</td>\n",
       "      <td>Business</td>\n",
       "      <td>Fort Pierce</td>\n",
       "      <td>Fort Pierce</td>\n",
       "      <td>5.0</td>\n",
       "      <td>Meal/Entertain</td>\n",
       "      <td>12.0</td>\n",
       "    </tr>\n",
       "    <tr>\n",
       "      <th>2</th>\n",
       "      <td>2016-01-02 20:25:00</td>\n",
       "      <td>2016-01-02 20:38:00</td>\n",
       "      <td>Business</td>\n",
       "      <td>Fort Pierce</td>\n",
       "      <td>Fort Pierce</td>\n",
       "      <td>4.8</td>\n",
       "      <td>Errand/Supplies</td>\n",
       "      <td>13.0</td>\n",
       "    </tr>\n",
       "    <tr>\n",
       "      <th>3</th>\n",
       "      <td>2016-01-05 17:31:00</td>\n",
       "      <td>2016-01-05 17:45:00</td>\n",
       "      <td>Business</td>\n",
       "      <td>Fort Pierce</td>\n",
       "      <td>Fort Pierce</td>\n",
       "      <td>4.7</td>\n",
       "      <td>Meeting</td>\n",
       "      <td>14.0</td>\n",
       "    </tr>\n",
       "    <tr>\n",
       "      <th>4</th>\n",
       "      <td>2016-01-06 14:42:00</td>\n",
       "      <td>2016-01-06 15:49:00</td>\n",
       "      <td>Business</td>\n",
       "      <td>Fort Pierce</td>\n",
       "      <td>West Palm Beach</td>\n",
       "      <td>63.7</td>\n",
       "      <td>Customer Visit</td>\n",
       "      <td>67.0</td>\n",
       "    </tr>\n",
       "  </tbody>\n",
       "</table>\n",
       "</div>"
      ],
      "text/plain": [
       "           START_DATE            END_DATE  CATEGORY        START  \\\n",
       "0 2016-01-01 21:11:00 2016-01-01 21:17:00  Business  Fort Pierce   \n",
       "1 2016-01-02 01:25:00 2016-01-02 01:37:00  Business  Fort Pierce   \n",
       "2 2016-01-02 20:25:00 2016-01-02 20:38:00  Business  Fort Pierce   \n",
       "3 2016-01-05 17:31:00 2016-01-05 17:45:00  Business  Fort Pierce   \n",
       "4 2016-01-06 14:42:00 2016-01-06 15:49:00  Business  Fort Pierce   \n",
       "\n",
       "              STOP  MILES          PURPOSE  MINUTES  \n",
       "0      Fort Pierce    5.1   Meal/Entertain      6.0  \n",
       "1      Fort Pierce    5.0   Meal/Entertain     12.0  \n",
       "2      Fort Pierce    4.8  Errand/Supplies     13.0  \n",
       "3      Fort Pierce    4.7          Meeting     14.0  \n",
       "4  West Palm Beach   63.7   Customer Visit     67.0  "
      ]
     },
     "execution_count": 49,
     "metadata": {},
     "output_type": "execute_result"
    }
   ],
   "source": [
    "df['MINUTES']=df['MINUTES'].dt.total_seconds()/60\n",
    "df.head()"
   ]
  },
  {
   "cell_type": "code",
   "execution_count": 51,
   "id": "b46b6dfa",
   "metadata": {},
   "outputs": [
    {
     "data": {
      "text/html": [
       "<div>\n",
       "<style scoped>\n",
       "    .dataframe tbody tr th:only-of-type {\n",
       "        vertical-align: middle;\n",
       "    }\n",
       "\n",
       "    .dataframe tbody tr th {\n",
       "        vertical-align: top;\n",
       "    }\n",
       "\n",
       "    .dataframe thead th {\n",
       "        text-align: right;\n",
       "    }\n",
       "</style>\n",
       "<table border=\"1\" class=\"dataframe\">\n",
       "  <thead>\n",
       "    <tr style=\"text-align: right;\">\n",
       "      <th></th>\n",
       "      <th>PURPOSE</th>\n",
       "      <th>Mean</th>\n",
       "      <th>Min</th>\n",
       "      <th>max</th>\n",
       "    </tr>\n",
       "  </thead>\n",
       "  <tbody>\n",
       "    <tr>\n",
       "      <th>0</th>\n",
       "      <td>Airport/Travel</td>\n",
       "      <td>15.0</td>\n",
       "      <td>0.9</td>\n",
       "      <td>156.9</td>\n",
       "    </tr>\n",
       "    <tr>\n",
       "      <th>1</th>\n",
       "      <td>Between Offices</td>\n",
       "      <td>10.9</td>\n",
       "      <td>1.9</td>\n",
       "      <td>39.2</td>\n",
       "    </tr>\n",
       "    <tr>\n",
       "      <th>2</th>\n",
       "      <td>Charity ($)</td>\n",
       "      <td>15.1</td>\n",
       "      <td>15.1</td>\n",
       "      <td>15.1</td>\n",
       "    </tr>\n",
       "    <tr>\n",
       "      <th>3</th>\n",
       "      <td>Commute</td>\n",
       "      <td>180.2</td>\n",
       "      <td>180.2</td>\n",
       "      <td>180.2</td>\n",
       "    </tr>\n",
       "    <tr>\n",
       "      <th>4</th>\n",
       "      <td>Customer Visit</td>\n",
       "      <td>16.1</td>\n",
       "      <td>0.6</td>\n",
       "      <td>310.3</td>\n",
       "    </tr>\n",
       "    <tr>\n",
       "      <th>5</th>\n",
       "      <td>Errand/Supplies</td>\n",
       "      <td>5.9</td>\n",
       "      <td>0.5</td>\n",
       "      <td>195.3</td>\n",
       "    </tr>\n",
       "    <tr>\n",
       "      <th>6</th>\n",
       "      <td>Meal/Entertain</td>\n",
       "      <td>5.8</td>\n",
       "      <td>0.6</td>\n",
       "      <td>36.5</td>\n",
       "    </tr>\n",
       "    <tr>\n",
       "      <th>7</th>\n",
       "      <td>Meeting</td>\n",
       "      <td>12.7</td>\n",
       "      <td>0.7</td>\n",
       "      <td>201.0</td>\n",
       "    </tr>\n",
       "    <tr>\n",
       "      <th>8</th>\n",
       "      <td>Moving</td>\n",
       "      <td>4.6</td>\n",
       "      <td>3.3</td>\n",
       "      <td>6.1</td>\n",
       "    </tr>\n",
       "    <tr>\n",
       "      <th>9</th>\n",
       "      <td>Temporary Site</td>\n",
       "      <td>11.0</td>\n",
       "      <td>0.7</td>\n",
       "      <td>195.6</td>\n",
       "    </tr>\n",
       "  </tbody>\n",
       "</table>\n",
       "</div>"
      ],
      "text/plain": [
       "           PURPOSE   Mean    Min    max\n",
       "0   Airport/Travel   15.0    0.9  156.9\n",
       "1  Between Offices   10.9    1.9   39.2\n",
       "2      Charity ($)   15.1   15.1   15.1\n",
       "3          Commute  180.2  180.2  180.2\n",
       "4   Customer Visit   16.1    0.6  310.3\n",
       "5  Errand/Supplies    5.9    0.5  195.3\n",
       "6   Meal/Entertain    5.8    0.6   36.5\n",
       "7          Meeting   12.7    0.7  201.0\n",
       "8           Moving    4.6    3.3    6.1\n",
       "9   Temporary Site   11.0    0.7  195.6"
      ]
     },
     "execution_count": 51,
     "metadata": {},
     "output_type": "execute_result"
    }
   ],
   "source": [
    "#Grouping purpose by miles \n",
    "pd.DataFrame({'Mean':df.groupby(['PURPOSE'])['MILES'].mean().round(1),'Min':df.groupby(['PURPOSE'])['MILES'].min(),'max':df.groupby(['PURPOSE'])['MILES'].max()}).reset_index()"
   ]
  },
  {
   "cell_type": "code",
   "execution_count": 53,
   "id": "017496e1",
   "metadata": {},
   "outputs": [
    {
     "data": {
      "text/plain": [
       "(array([0, 1, 2, 3, 4, 5, 6, 7, 8, 9]),\n",
       " [Text(0, 0, 'Meal/Entertain'),\n",
       "  Text(1, 0, 'Errand/Supplies'),\n",
       "  Text(2, 0, 'Meeting'),\n",
       "  Text(3, 0, 'Customer Visit'),\n",
       "  Text(4, 0, 'Temporary Site'),\n",
       "  Text(5, 0, 'Between Offices'),\n",
       "  Text(6, 0, 'Charity ($)'),\n",
       "  Text(7, 0, 'Commute'),\n",
       "  Text(8, 0, 'Moving'),\n",
       "  Text(9, 0, 'Airport/Travel')])"
      ]
     },
     "execution_count": 53,
     "metadata": {},
     "output_type": "execute_result"
    },
    {
     "data": {
      "image/png": "[encoded data removed]",
      "text/plain": [
       "<Figure size 1152x504 with 1 Axes>"
      ]
     },
     "metadata": {
      "needs_background": "light"
     },
     "output_type": "display_data"
    }
   ],
   "source": [
    "#Box Plot of MILES & MINUTES \n",
    "plt.figure(figsize=(16,7))\n",
    "sns.boxplot(data=df,x=df.PURPOSE,y=df.MILES)\n",
    "plt.xticks(rotation=45)\n",
    "sns.boxplot(data=df,x=df.PURPOSE,y=df.MINUTES)\n",
    "plt.xticks(rotation=45)"
   ]
  },
  {
   "cell_type": "code",
   "execution_count": 56,
   "id": "c4fbd79d",
   "metadata": {},
   "outputs": [
    {
     "data": {
      "text/plain": [
       "(array([0, 1, 2, 3, 4, 5, 6, 7, 8, 9]),\n",
       " [Text(0, 0, 'Meal/Entertain'),\n",
       "  Text(1, 0, 'Errand/Supplies'),\n",
       "  Text(2, 0, 'Meeting'),\n",
       "  Text(3, 0, 'Customer Visit'),\n",
       "  Text(4, 0, 'Temporary Site'),\n",
       "  Text(5, 0, 'Between Offices'),\n",
       "  Text(6, 0, 'Charity ($)'),\n",
       "  Text(7, 0, 'Commute'),\n",
       "  Text(8, 0, 'Moving'),\n",
       "  Text(9, 0, 'Airport/Travel')])"
      ]
     },
     "execution_count": 56,
     "metadata": {},
     "output_type": "execute_result"
    },
    {
     "data": {
      "image/png": "[encoded data removed]",
      "text/plain": [
       "<Figure size 1152x504 with 2 Axes>"
      ]
     },
     "metadata": {
      "needs_background": "light"
     },
     "output_type": "display_data"
    }
   ],
   "source": [
    "#Without the outliers(box plot) \n",
    "plt.figure(figsize=(16,7))\n",
    "plt.subplot(1,2,1)\n",
    "sns.boxplot(data=df,x=df.PURPOSE,y=df.MILES,showfliers=False)\n",
    "plt.xticks(rotation=45)\n",
    "plt.subplot(1,2,2)\n",
    "sns.boxplot(data=df,x=df.PURPOSE,y=df.MINUTES,showfliers=False)\n",
    "plt.xticks(rotation=45)"
   ]
  },
  {
   "cell_type": "code",
   "execution_count": 61,
   "id": "e5776d28",
   "metadata": {},
   "outputs": [
    {
     "data": {
      "image/png": "[encoded data removed]",
      "text/plain": [
       "<Figure size 576x360 with 1 Axes>"
      ]
     },
     "metadata": {
      "needs_background": "light"
     },
     "output_type": "display_data"
    }
   ],
   "source": [
    "#checking how many round trips .i.e. start and stop points are same \n",
    "plt.figure(figsize=(8,5))\n",
    "def round(x):\n",
    "    if x['START']==x['STOP']:\n",
    "        return 'yes'\n",
    "    else:\n",
    "        return 'no'\n",
    "df['Round_TRIP']==df.apply(round,axis=1)\n",
    "sns.countplot(df['Round_TRIP'],order=df['Round_TRIP'].value_counts().index)\n",
    "plt.show()"
   ]
  },
  {
   "cell_type": "code",
   "execution_count": 63,
   "id": "d7d8161b",
   "metadata": {},
   "outputs": [
    {
     "data": {
      "text/html": [
       "<div>\n",
       "<style scoped>\n",
       "    .dataframe tbody tr th:only-of-type {\n",
       "        vertical-align: middle;\n",
       "    }\n",
       "\n",
       "    .dataframe tbody tr th {\n",
       "        vertical-align: top;\n",
       "    }\n",
       "\n",
       "    .dataframe thead th {\n",
       "        text-align: right;\n",
       "    }\n",
       "</style>\n",
       "<table border=\"1\" class=\"dataframe\">\n",
       "  <thead>\n",
       "    <tr style=\"text-align: right;\">\n",
       "      <th></th>\n",
       "      <th>START_DATE</th>\n",
       "      <th>END_DATE</th>\n",
       "      <th>CATEGORY</th>\n",
       "      <th>START</th>\n",
       "      <th>STOP</th>\n",
       "      <th>MILES</th>\n",
       "      <th>PURPOSE</th>\n",
       "      <th>MINUTES</th>\n",
       "      <th>Round_TRIP</th>\n",
       "      <th>month</th>\n",
       "    </tr>\n",
       "  </thead>\n",
       "  <tbody>\n",
       "    <tr>\n",
       "      <th>0</th>\n",
       "      <td>2016-01-01 21:11:00</td>\n",
       "      <td>2016-01-01 21:17:00</td>\n",
       "      <td>Business</td>\n",
       "      <td>Fort Pierce</td>\n",
       "      <td>Fort Pierce</td>\n",
       "      <td>5.1</td>\n",
       "      <td>Meal/Entertain</td>\n",
       "      <td>6.0</td>\n",
       "      <td>yes</td>\n",
       "      <td>jan</td>\n",
       "    </tr>\n",
       "    <tr>\n",
       "      <th>1</th>\n",
       "      <td>2016-01-02 01:25:00</td>\n",
       "      <td>2016-01-02 01:37:00</td>\n",
       "      <td>Business</td>\n",
       "      <td>Fort Pierce</td>\n",
       "      <td>Fort Pierce</td>\n",
       "      <td>5.0</td>\n",
       "      <td>Meal/Entertain</td>\n",
       "      <td>12.0</td>\n",
       "      <td>yes</td>\n",
       "      <td>jan</td>\n",
       "    </tr>\n",
       "    <tr>\n",
       "      <th>2</th>\n",
       "      <td>2016-01-02 20:25:00</td>\n",
       "      <td>2016-01-02 20:38:00</td>\n",
       "      <td>Business</td>\n",
       "      <td>Fort Pierce</td>\n",
       "      <td>Fort Pierce</td>\n",
       "      <td>4.8</td>\n",
       "      <td>Errand/Supplies</td>\n",
       "      <td>13.0</td>\n",
       "      <td>yes</td>\n",
       "      <td>jan</td>\n",
       "    </tr>\n",
       "    <tr>\n",
       "      <th>3</th>\n",
       "      <td>2016-01-05 17:31:00</td>\n",
       "      <td>2016-01-05 17:45:00</td>\n",
       "      <td>Business</td>\n",
       "      <td>Fort Pierce</td>\n",
       "      <td>Fort Pierce</td>\n",
       "      <td>4.7</td>\n",
       "      <td>Meeting</td>\n",
       "      <td>14.0</td>\n",
       "      <td>yes</td>\n",
       "      <td>jan</td>\n",
       "    </tr>\n",
       "    <tr>\n",
       "      <th>4</th>\n",
       "      <td>2016-01-06 14:42:00</td>\n",
       "      <td>2016-01-06 15:49:00</td>\n",
       "      <td>Business</td>\n",
       "      <td>Fort Pierce</td>\n",
       "      <td>West Palm Beach</td>\n",
       "      <td>63.7</td>\n",
       "      <td>Customer Visit</td>\n",
       "      <td>67.0</td>\n",
       "      <td>no</td>\n",
       "      <td>jan</td>\n",
       "    </tr>\n",
       "    <tr>\n",
       "      <th>...</th>\n",
       "      <td>...</td>\n",
       "      <td>...</td>\n",
       "      <td>...</td>\n",
       "      <td>...</td>\n",
       "      <td>...</td>\n",
       "      <td>...</td>\n",
       "      <td>...</td>\n",
       "      <td>...</td>\n",
       "      <td>...</td>\n",
       "      <td>...</td>\n",
       "    </tr>\n",
       "    <tr>\n",
       "      <th>1150</th>\n",
       "      <td>2016-12-31 01:07:00</td>\n",
       "      <td>2016-12-31 01:14:00</td>\n",
       "      <td>Business</td>\n",
       "      <td>Kar?chi</td>\n",
       "      <td>Kar?chi</td>\n",
       "      <td>0.7</td>\n",
       "      <td>Meeting</td>\n",
       "      <td>7.0</td>\n",
       "      <td>yes</td>\n",
       "      <td>dec</td>\n",
       "    </tr>\n",
       "    <tr>\n",
       "      <th>1151</th>\n",
       "      <td>2016-12-31 13:24:00</td>\n",
       "      <td>2016-12-31 13:42:00</td>\n",
       "      <td>Business</td>\n",
       "      <td>Kar?chi</td>\n",
       "      <td>Unknown Location</td>\n",
       "      <td>3.9</td>\n",
       "      <td>Temporary Site</td>\n",
       "      <td>18.0</td>\n",
       "      <td>no</td>\n",
       "      <td>dec</td>\n",
       "    </tr>\n",
       "    <tr>\n",
       "      <th>1152</th>\n",
       "      <td>2016-12-31 15:03:00</td>\n",
       "      <td>2016-12-31 15:38:00</td>\n",
       "      <td>Business</td>\n",
       "      <td>Unknown Location</td>\n",
       "      <td>Unknown Location</td>\n",
       "      <td>16.2</td>\n",
       "      <td>Meeting</td>\n",
       "      <td>35.0</td>\n",
       "      <td>yes</td>\n",
       "      <td>dec</td>\n",
       "    </tr>\n",
       "    <tr>\n",
       "      <th>1153</th>\n",
       "      <td>2016-12-31 21:32:00</td>\n",
       "      <td>2016-12-31 21:50:00</td>\n",
       "      <td>Business</td>\n",
       "      <td>Katunayake</td>\n",
       "      <td>Gampaha</td>\n",
       "      <td>6.4</td>\n",
       "      <td>Temporary Site</td>\n",
       "      <td>18.0</td>\n",
       "      <td>no</td>\n",
       "      <td>dec</td>\n",
       "    </tr>\n",
       "    <tr>\n",
       "      <th>1154</th>\n",
       "      <td>2016-12-31 22:08:00</td>\n",
       "      <td>2016-12-31 23:51:00</td>\n",
       "      <td>Business</td>\n",
       "      <td>Gampaha</td>\n",
       "      <td>Ilukwatta</td>\n",
       "      <td>48.2</td>\n",
       "      <td>Temporary Site</td>\n",
       "      <td>103.0</td>\n",
       "      <td>no</td>\n",
       "      <td>dec</td>\n",
       "    </tr>\n",
       "  </tbody>\n",
       "</table>\n",
       "<p>1155 rows × 10 columns</p>\n",
       "</div>"
      ],
      "text/plain": [
       "              START_DATE            END_DATE  CATEGORY             START  \\\n",
       "0    2016-01-01 21:11:00 2016-01-01 21:17:00  Business       Fort Pierce   \n",
       "1    2016-01-02 01:25:00 2016-01-02 01:37:00  Business       Fort Pierce   \n",
       "2    2016-01-02 20:25:00 2016-01-02 20:38:00  Business       Fort Pierce   \n",
       "3    2016-01-05 17:31:00 2016-01-05 17:45:00  Business       Fort Pierce   \n",
       "4    2016-01-06 14:42:00 2016-01-06 15:49:00  Business       Fort Pierce   \n",
       "...                  ...                 ...       ...               ...   \n",
       "1150 2016-12-31 01:07:00 2016-12-31 01:14:00  Business           Kar?chi   \n",
       "1151 2016-12-31 13:24:00 2016-12-31 13:42:00  Business           Kar?chi   \n",
       "1152 2016-12-31 15:03:00 2016-12-31 15:38:00  Business  Unknown Location   \n",
       "1153 2016-12-31 21:32:00 2016-12-31 21:50:00  Business        Katunayake   \n",
       "1154 2016-12-31 22:08:00 2016-12-31 23:51:00  Business           Gampaha   \n",
       "\n",
       "                  STOP  MILES          PURPOSE  MINUTES Round_TRIP month  \n",
       "0          Fort Pierce    5.1   Meal/Entertain      6.0        yes   jan  \n",
       "1          Fort Pierce    5.0   Meal/Entertain     12.0        yes   jan  \n",
       "2          Fort Pierce    4.8  Errand/Supplies     13.0        yes   jan  \n",
       "3          Fort Pierce    4.7          Meeting     14.0        yes   jan  \n",
       "4      West Palm Beach   63.7   Customer Visit     67.0         no   jan  \n",
       "...                ...    ...              ...      ...        ...   ...  \n",
       "1150           Kar?chi    0.7          Meeting      7.0        yes   dec  \n",
       "1151  Unknown Location    3.9   Temporary Site     18.0         no   dec  \n",
       "1152  Unknown Location   16.2          Meeting     35.0        yes   dec  \n",
       "1153           Gampaha    6.4   Temporary Site     18.0         no   dec  \n",
       "1154         Ilukwatta   48.2   Temporary Site    103.0         no   dec  \n",
       "\n",
       "[1155 rows x 10 columns]"
      ]
     },
     "execution_count": 63,
     "metadata": {},
     "output_type": "execute_result"
    }
   ],
   "source": [
    "##Entering month name and evaluating frequency of trip each month\n",
    "df['month']=pd.DatetimeIndex(df['START_DATE']).month\n",
    "dic={1:'jan',2:'feb',3:'mar',4:'apr',5:'may',6:'jun',7:'jul',8:'aug',9:'sep',10:'oct',11:'nov',12:'dec'}\n",
    "df['month']=df['month'].map(dic)\n",
    "df"
   ]
  },
  {
   "cell_type": "code",
   "execution_count": 65,
   "id": "87ae6126",
   "metadata": {},
   "outputs": [
    {
     "data": {
      "image/png": "[encoded data removed]",
      "text/plain": [
       "<Figure size 864x504 with 1 Axes>"
      ]
     },
     "metadata": {
      "needs_background": "light"
     },
     "output_type": "display_data"
    }
   ],
   "source": [
    "#visualising the data\n",
    "plt.figure(figsize=(12,7))\n",
    "sns.countplot(df['month'],order=df['month'].value_counts().index,palette='deep')\n",
    "plt.show()"
   ]
  },
  {
   "cell_type": "code",
   "execution_count": 69,
   "id": "a8484985",
   "metadata": {},
   "outputs": [
    {
     "data": {
      "image/png": "[encoded data removed]",
      "text/plain": [
       "<Figure size 720x504 with 1 Axes>"
      ]
     },
     "metadata": {
      "needs_background": "light"
     },
     "output_type": "display_data"
    }
   ],
   "source": [
    "plt.figure(figsize=(10,7))\n",
    "sns.countplot(df['Round_TRIP'],hue=df['month'])\n",
    "plt.legend()\n",
    "plt.show()"
   ]
  },
  {
   "cell_type": "code",
   "execution_count": 71,
   "id": "fe59c40d",
   "metadata": {
    "scrolled": false
   },
   "outputs": [
    {
     "data": {
      "text/plain": [
       "<AxesSubplot:xlabel='MINUTES', ylabel='MILES'>"
      ]
     },
     "execution_count": 71,
     "metadata": {},
     "output_type": "execute_result"
    },
    {
     "data": {
      "image/png": "[encoded data removed]",
      "text/plain": [
       "<Figure size 1152x504 with 2 Axes>"
      ]
     },
     "metadata": {
      "needs_background": "light"
     },
     "output_type": "display_data"
    }
   ],
   "source": [
    "##Scatter Plot\n",
    "plt.figure(figsize=(16,7))\n",
    "plt.subplot(1,2,1)\n",
    "sns.lineplot(data=df,x=df.MINUTES,y=df.MILES)\n",
    "plt.subplot(1,2,2)\n",
    "sns.scatterplot(data=df,x=df.MINUTES,y=df.MILES)"
   ]
  },
  {
   "cell_type": "code",
   "execution_count": 72,
   "id": "0350d86d",
   "metadata": {},
   "outputs": [
    {
     "data": {
      "text/plain": [
       "(array([0, 1, 2, 3, 4, 5, 6, 7, 8, 9]),\n",
       " [Text(0, 0, 'Meal/Entertain'),\n",
       "  Text(1, 0, 'Errand/Supplies'),\n",
       "  Text(2, 0, 'Meeting'),\n",
       "  Text(3, 0, 'Customer Visit'),\n",
       "  Text(4, 0, 'Temporary Site'),\n",
       "  Text(5, 0, 'Between Offices'),\n",
       "  Text(6, 0, 'Charity ($)'),\n",
       "  Text(7, 0, 'Commute'),\n",
       "  Text(8, 0, 'Moving'),\n",
       "  Text(9, 0, 'Airport/Travel')])"
      ]
     },
     "execution_count": 72,
     "metadata": {},
     "output_type": "execute_result"
    },
    {
     "data": {
      "image/png": "[encoded data removed]",
      "text/plain": [
       "<Figure size 648x360 with 1 Axes>"
      ]
     },
     "metadata": {
      "needs_background": "light"
     },
     "output_type": "display_data"
    }
   ],
   "source": [
    "##Distribution of cab rides based in category\n",
    "plt.figure(figsize=(9,5))\n",
    "sns.countplot(data=df,x='PURPOSE',hue='CATEGORY',dodge=False)\n",
    "plt.xticks(rotation=45)"
   ]
  },
  {
   "cell_type": "code",
   "execution_count": 74,
   "id": "c8725f6d",
   "metadata": {},
   "outputs": [
    {
     "data": {
      "text/plain": [
       "(array([ 0,  1,  2,  3,  4,  5,  6,  7,  8,  9, 10, 11, 12, 13, 14, 15, 16,\n",
       "        17, 18, 19, 20, 21, 22, 23, 24]),\n",
       " [Text(0, 0, 'Cary'),\n",
       "  Text(1, 0, 'Unknown Location'),\n",
       "  Text(2, 0, 'Morrisville'),\n",
       "  Text(3, 0, 'Whitebridge'),\n",
       "  Text(4, 0, 'Islamabad'),\n",
       "  Text(5, 0, 'Lahore'),\n",
       "  Text(6, 0, 'Durham'),\n",
       "  Text(7, 0, 'Raleigh'),\n",
       "  Text(8, 0, 'Kar?chi'),\n",
       "  Text(9, 0, 'Apex'),\n",
       "  Text(10, 0, 'Westpark Place'),\n",
       "  Text(11, 0, 'Berkeley'),\n",
       "  Text(12, 0, 'R?walpindi'),\n",
       "  Text(13, 0, 'Kissimmee'),\n",
       "  Text(14, 0, 'Midtown'),\n",
       "  Text(15, 0, 'New Orleans'),\n",
       "  Text(16, 0, 'Kenner'),\n",
       "  Text(17, 0, 'Edgehill Farms'),\n",
       "  Text(18, 0, 'Emeryville'),\n",
       "  Text(19, 0, 'Central'),\n",
       "  Text(20, 0, 'San Francisco'),\n",
       "  Text(21, 0, 'Oakland'),\n",
       "  Text(22, 0, 'Banner Elk'),\n",
       "  Text(23, 0, 'Colombo'),\n",
       "  Text(24, 0, 'Downtown')])"
      ]
     },
     "execution_count": 74,
     "metadata": {},
     "output_type": "execute_result"
    },
    {
     "data": {
      "image/png": "[encoded data removed]",
      "text/plain": [
       "<Figure size 1080x288 with 1 Axes>"
      ]
     },
     "metadata": {
      "needs_background": "light"
     },
     "output_type": "display_data"
    }
   ],
   "source": [
    "#Frequency of cab rides stop location\n",
    "plt.figure(figsize=(15,4))\n",
    "pd.Series(df['STOP'].value_counts()[:25].plot(kind='bar'))\n",
    "plt.title('cab rides stop location frequency')\n",
    "plt.xticks(rotation=45)"
   ]
  },
  {
   "cell_type": "markdown",
   "id": "17dee23e",
   "metadata": {},
   "source": [
    "## CONCLUSIONS\n",
    "1. Business cabs were not only used more in volumne but also have travelled more distance.\n",
    "2. Round trips were more in decemnber\n",
    "3. december can prove to be the best month for earning profit by raising fare as demand is more\n",
    "4. seasonal pattern is there\n",
    "5. Cab traffic was high in just 5 cities comparitevely\n",
    "6. most of the cab rides are within a distance of 35 miles taking about 30 minutes\n",
    "7. For Airport cabs are taking more time than usual."
   ]
  }
 ],
 "metadata": {
  "kernelspec": {
   "display_name": "Python 3",
   "language": "python",
   "name": "python3"
  },
  "language_info": {
   "codemirror_mode": {
    "name": "ipython",
    "version": 3
   },
   "file_extension": ".py",
   "mimetype": "text/x-python",
   "name": "python",
   "nbconvert_exporter": "python",
   "pygments_lexer": "ipython3",
   "version": "3.8.8"
  }
 },
 "nbformat": 4,
 "nbformat_minor": 5
}
